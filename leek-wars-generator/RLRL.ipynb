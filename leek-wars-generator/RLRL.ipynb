{
 "cells": [
  {
   "cell_type": "markdown",
   "metadata": {},
   "source": [
    "# Notebook RL RL "
   ]
  },
  {
   "cell_type": "markdown",
   "metadata": {},
   "source": [
    "## Import \n",
    "Improt nécéssaire au programme. "
   ]
  },
  {
   "cell_type": "code",
   "execution_count": 1,
   "metadata": {},
   "outputs": [],
   "source": [
    "import os\n",
    "import sys\n",
    "import json\n",
    "import random\n",
    "import collections\n",
    "import numpy as np"
   ]
  },
  {
   "cell_type": "markdown",
   "metadata": {},
   "source": [
    "## Réglages de l'entrainement\n",
    "On peut modifier le nombre de combats à éffectuer : \n"
   ]
  },
  {
   "cell_type": "code",
   "execution_count": 2,
   "metadata": {},
   "outputs": [],
   "source": [
    "# Nombre de combats \n",
    "nbFight = 10\n",
    "\n",
    "# Remise à 0 de la table de RL \n",
    "tabRL = np.zeros(1500)"
   ]
  },
  {
   "cell_type": "markdown",
   "metadata": {},
   "source": [
    "## Entrainement\n",
    "\n",
    "### Chargement du scenario\n",
    "On récupères des infromations du scenario et on modifie la valeur \"random_seed\" pour l'aléatoire. \n",
    "\n",
    "On peut à présent lancer un entrainement : "
   ]
  },
  {
   "cell_type": "code",
   "execution_count": 3,
   "metadata": {},
   "outputs": [
    {
     "name": "stdout",
     "output_type": "stream",
     "text": [
      "Combat 1 : Winner -> IA2 // Durée : 20 tours // Temps : 1.3344914 sec\n",
      "Combat 2 : Winner -> IA2 // Durée : 43 tours // Temps : 1.7930374 sec\n",
      "Combat 3 : Winner -> IA2 // Durée : 12 tours // Temps : 1.02705 sec\n",
      "Combat 4 : Winner -> IA1 // Durée : 27 tours // Temps : 1.6850871 sec\n",
      "Combat 5 : Winner -> IA1 // Durée : 27 tours // Temps : 1.4332049 sec\n",
      "Combat 6 : Winner -> IA2 // Durée : 16 tours // Temps : 1.1465456 sec\n",
      "Combat 7 : Winner -> IA2 // Durée : 15 tours // Temps : 0.9655791 sec\n",
      "Combat 8 : Winner -> IA1 // Durée : 14 tours // Temps : 0.9670416 sec\n",
      "Combat 9 : Winner -> IA1 // Durée : 30 tours // Temps : 1.5812543 sec\n",
      "Combat 10 : Winner -> IA1 // Durée : 18 tours // Temps : 1.1828498 sec\n",
      "Combat 11 : Winner -> IA2 // Durée : 14 tours // Temps : 0.9702124 sec\n",
      "Combat 12 : Winner -> IA1 // Durée : 12 tours // Temps : 0.8651958 sec\n",
      "Combat 13 : Winner -> IA2 // Durée : 30 tours // Temps : 1.860912 sec\n",
      "Combat 14 : Winner -> IA2 // Durée : 6 tours // Temps : 0.7665084 sec\n",
      "Combat 15 : Winner -> IA2 // Durée : 26 tours // Temps : 1.4610122 sec\n",
      "Combat 16 : Winner -> IA2 // Durée : 15 tours // Temps : 0.9909001 sec\n",
      "Combat 17 : Winner -> IA2 // Durée : 28 tours // Temps : 1.7170338 sec\n",
      "Combat 18 : Winner -> IA2 // Durée : 33 tours // Temps : 1.8151502 sec\n",
      "Combat 19 : Winner -> IA1 // Durée : 50 tours // Temps : 2.0721625 sec\n",
      "Combat 20 : Winner -> IA1 // Durée : 31 tours // Temps : 1.7683333 sec\n",
      "Combat 21 : Winner -> IA2 // Durée : 19 tours // Temps : 1.2733544 sec\n",
      "Combat 22 : Winner -> IA2 // Durée : 23 tours // Temps : 1.6312167 sec\n",
      "Combat 23 : Winner -> IA2 // Durée : 22 tours // Temps : 1.229904 sec\n",
      "Combat 24 : Winner -> IA1 // Durée : 32 tours // Temps : 1.7147041 sec\n",
      "Combat 25 : Winner -> IA1 // Durée : 28 tours // Temps : 1.448975 sec\n",
      "Combat 26 : Winner -> IA1 // Durée : 34 tours // Temps : 1.7101754 sec\n",
      "Combat 27 : Winner -> IA1 // Durée : 23 tours // Temps : 1.4820167 sec\n",
      "Combat 28 : Winner -> IA2 // Durée : 32 tours // Temps : 1.7763291 sec\n",
      "Combat 29 : Winner -> IA1 // Durée : 23 tours // Temps : 1.3063419 sec\n",
      "Combat 30 : Winner -> IA1 // Durée : 34 tours // Temps : 1.7256496 sec\n"
     ]
    }
   ],
   "source": [
    "file_scenario = 'test/scenario/scenarioRLRL.json'\n",
    "file_resultat = 'resultatRLRL.json'\n",
    "\n",
    "for i in range(nbFight) : \n",
    "    with open(file_scenario) as jsonFile:\n",
    "        scenario = json.load(jsonFile)\n",
    "        jsonFile.close()\n",
    "\n",
    "    scenario[\"random_seed\"] = random.randint(0,10000000)\n",
    "\n",
    "    with open(file_scenario, 'w') as f:\n",
    "        json.dump(scenario, f)\n",
    "    \n",
    "    \n",
    "    \n",
    "    os.system('java -jar generator.jar '  + file_scenario + ' > ' + file_resultat)\n",
    "    \n",
    "    \n",
    "    with open(file_resultat, \"r\") as f:\n",
    "        lines = f.readlines()\n",
    "    with open(file_resultat, \"w\") as f:\n",
    "        for line in lines:\n",
    "            if line.strip(\"\\n\") != \"db_resolver false folder=0 farmer=0\":\n",
    "                f.write(line)\n",
    "     \n",
    "    with open(file_resultat) as jsonFile:\n",
    "        resultat = json.load(jsonFile)\n",
    "        jsonFile.close()\n",
    "        \n",
    "        \n",
    "    logs = resultat['logs']['0']\n",
    "\n",
    "    sortedLogs = collections.OrderedDict(sorted(logs.items()))\n",
    "\n",
    "    winnerID = int(resultat['winner']) \n",
    "    winnerName = scenario[\"entities\"][winnerID][0][\"name\"]\n",
    "    duration = resultat[\"duration\"]\n",
    "    execution_time = resultat[\"execution_time\"]\n",
    "\n",
    "    print(\"Combat \" + str(i + 1) + \" : Winner -> \" + winnerName + \" // Durée : \" + str(duration) + \" tours // Temps : \" +  str(execution_time / 10000000) + \" sec\")\n",
    "    \n",
    "    for log in sortedLogs: \n",
    "        rl = str(sortedLogs[log][0][2])\n",
    "        rl = rl.split('/')\n",
    "        tabRL[int(rl[0])] += int(rl[1])\n",
    "        tabRL[int(rl[2])] += int(rl[3])"
   ]
  }
 ],
 "metadata": {
  "interpreter": {
   "hash": "cdf400e2b2cf645b2ec6a448fcb5b3c1b3d3d5834714944466c9c0370880fa51"
  },
  "kernelspec": {
   "display_name": "Python 3.9.0 ('ML1')",
   "language": "python",
   "name": "python3"
  },
  "language_info": {
   "codemirror_mode": {
    "name": "ipython",
    "version": 3
   },
   "file_extension": ".py",
   "mimetype": "text/x-python",
   "name": "python",
   "nbconvert_exporter": "python",
   "pygments_lexer": "ipython3",
   "version": "3.9.0"
  },
  "orig_nbformat": 4
 },
 "nbformat": 4,
 "nbformat_minor": 2
}
