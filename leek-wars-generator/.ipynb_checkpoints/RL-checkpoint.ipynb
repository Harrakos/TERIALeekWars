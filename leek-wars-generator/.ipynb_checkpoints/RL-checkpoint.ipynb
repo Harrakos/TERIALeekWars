{
 "cells": [
  {
   "cell_type": "markdown",
   "id": "0dd3f905",
   "metadata": {},
   "source": [
    "# Notebook "
   ]
  },
  {
   "cell_type": "markdown",
   "id": "73e16ba6",
   "metadata": {},
   "source": [
    "Notebook de renforcement learning pour le TER LeekWars.\n",
    "\n",
    "\n",
    "Membres du groupe : \n",
    "\n",
    "* Alexandre Cauty \n",
    "* Loic Schnuriger \n",
    "* Thomas Juliat\n",
    "* Aissaoui Lucas"
   ]
  },
  {
   "cell_type": "markdown",
   "id": "ad98a2b6",
   "metadata": {},
   "source": [
    "## Import \n",
    "Improt nécéssaire au programme. "
   ]
  },
  {
   "cell_type": "code",
   "execution_count": 15,
   "id": "faca861e",
   "metadata": {},
   "outputs": [],
   "source": [
    "import os\n",
    "import sys\n",
    "import json\n",
    "import collections"
   ]
  },
  {
   "cell_type": "markdown",
   "id": "410c892d",
   "metadata": {},
   "source": [
    "## Réglages de l'entrainement\n",
    "On peut modifier le nombre de combats à éffectuer : \n"
   ]
  },
  {
   "cell_type": "code",
   "execution_count": 16,
   "id": "3dc207dc",
   "metadata": {},
   "outputs": [],
   "source": [
    "nbFight = 3"
   ]
  },
  {
   "cell_type": "markdown",
   "id": "09beed19",
   "metadata": {},
   "source": [
    "## Chargement du scenario\n",
    "On récupères des infromations du scenario pour l'affichage du résultat : "
   ]
  },
  {
   "cell_type": "code",
   "execution_count": 17,
   "id": "52f702a3",
   "metadata": {},
   "outputs": [],
   "source": [
    "with open(\"test/scenario/scenarioTrain.json\") as jsonFile:\n",
    "        scenario = json.load(jsonFile)\n",
    "        jsonFile.close()"
   ]
  },
  {
   "cell_type": "markdown",
   "id": "23422053",
   "metadata": {},
   "source": [
    "## Entrainement\n",
    "On peut à présent lancer un entrainement : "
   ]
  },
  {
   "cell_type": "code",
   "execution_count": 18,
   "id": "ff302bf3",
   "metadata": {},
   "outputs": [
    {
     "name": "stdout",
     "output_type": "stream",
     "text": [
      "Combat 1 : Winner -> IA // Durée : 10 tours // Temps : 0.6732415 sec\n",
      "3/0/10/0\n",
      "256/0/0/0\n",
      "1/56/10/0\n",
      "225/0/270/0\n",
      "145/0/233/0\n",
      "52/0/154/0\n",
      "35/0/61/0\n",
      "32/42/46/0\n",
      "6/52/41/0\n",
      "2/0/8/0\n",
      "Combat 2 : Winner -> IA // Durée : 10 tours // Temps : 0.6867124 sec\n",
      "3/0/10/0\n",
      "256/0/0/0\n",
      "1/56/10/0\n",
      "225/0/270/0\n",
      "145/0/233/0\n",
      "52/0/154/0\n",
      "35/0/61/0\n",
      "32/42/46/0\n",
      "6/52/41/0\n",
      "2/0/8/0\n",
      "Combat 3 : Winner -> IA // Durée : 10 tours // Temps : 0.6749418 sec\n",
      "3/0/10/0\n",
      "256/0/0/0\n",
      "1/56/10/0\n",
      "225/0/270/0\n",
      "145/0/233/0\n",
      "52/0/154/0\n",
      "35/0/61/0\n",
      "32/42/46/0\n",
      "6/52/41/0\n",
      "2/0/8/0\n"
     ]
    }
   ],
   "source": [
    "for i in range(nbFight) : \n",
    "    os.system('java -jar generator.jar test/scenario/scenarioTrain.json > resultat.json')\n",
    "\n",
    "    \n",
    "    with open(\"resultat.json\", \"r\") as f:\n",
    "        lines = f.readlines()\n",
    "    with open(\"resultat.json\", \"w\") as f:\n",
    "        for line in lines:\n",
    "            if line.strip(\"\\n\") != \"db_resolver false folder=0 farmer=0\":\n",
    "                f.write(line)\n",
    "     \n",
    "    with open(\"resultat.json\") as jsonFile:\n",
    "        resultat = json.load(jsonFile)\n",
    "        jsonFile.close()\n",
    "        \n",
    "        \n",
    "    logs = resultat['logs']['0']\n",
    "\n",
    "    sortedLogs = collections.OrderedDict(sorted(logs.items()))\n",
    "\n",
    "    winnerID = int(resultat['winner']) \n",
    "    winnerName = scenario[\"entities\"][winnerID][0][\"name\"]\n",
    "    duration = resultat[\"duration\"]\n",
    "    execution_time = resultat[\"execution_time\"]\n",
    "\n",
    "    print(\"Combat \" + str(i + 1) + \" : Winner -> \" + winnerName + \" // Durée : \" + str(duration) + \" tours // Temps : \" +  str(execution_time / 10000000) + \" sec\")\n",
    "    \n",
    "    for log in sortedLogs: \n",
    "        rl = str(sortedLogs[log][0][2])\n",
    "        print(rl)\n"
   ]
  },
  {
   "cell_type": "code",
   "execution_count": null,
   "id": "f6932564",
   "metadata": {},
   "outputs": [],
   "source": []
  },
  {
   "cell_type": "code",
   "execution_count": null,
   "id": "f2ed3a47",
   "metadata": {},
   "outputs": [],
   "source": []
  }
 ],
 "metadata": {
  "kernelspec": {
   "display_name": "Python 3 (ipykernel)",
   "language": "python",
   "name": "python3"
  },
  "language_info": {
   "codemirror_mode": {
    "name": "ipython",
    "version": 3
   },
   "file_extension": ".py",
   "mimetype": "text/x-python",
   "name": "python",
   "nbconvert_exporter": "python",
   "pygments_lexer": "ipython3",
   "version": "3.9.10"
  }
 },
 "nbformat": 4,
 "nbformat_minor": 5
}
